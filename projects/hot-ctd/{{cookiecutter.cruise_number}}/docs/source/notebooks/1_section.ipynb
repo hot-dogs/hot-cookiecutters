{
 "cells": [
  {
   "cell_type": "markdown",
   "id": "adf2c13b-8c4c-4828-a1d4-a5740e84e511",
   "metadata": {},
   "source": [
    "# Testing first jupyter notebook"
   ]
  },
  {
   "cell_type": "code",
   "execution_count": 3,
   "id": "b2168a11-e2a9-44b3-88e4-3a48c13203c4",
   "metadata": {},
   "outputs": [
    {
     "name": "stdout",
     "output_type": "stream",
     "text": [
      "hello\n"
     ]
    }
   ],
   "source": [
    "print('hello')"
   ]
  }
 ],
 "metadata": {
  "kernelspec": {
   "display_name": "Python 3 (ipykernel)",
   "language": "python",
   "name": "python3"
  },
  "language_info": {
   "codemirror_mode": {
    "name": "ipython",
    "version": 3
   },
   "file_extension": ".py",
   "mimetype": "text/x-python",
   "name": "python",
   "nbconvert_exporter": "python",
   "pygments_lexer": "ipython3",
   "version": "3.10.4"
  }
 },
 "nbformat": 4,
 "nbformat_minor": 5
}
